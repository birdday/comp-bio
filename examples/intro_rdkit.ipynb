{
 "cells": [
  {
   "cell_type": "code",
   "execution_count": 2,
   "metadata": {},
   "outputs": [],
   "source": [
    "import rdkit\n",
    "from rdkit import Chem\n",
    "import numpy\n",
    "import scipy\n",
    "import torch"
   ]
  },
  {
   "cell_type": "code",
   "execution_count": null,
   "metadata": {},
   "outputs": [],
   "source": [
    "butane = Chem.MolFromSmiles('CCCC')\n",
    "# Smarts molecule can't add hs?\n",
    "butane"
   ]
  },
  {
   "cell_type": "code",
   "execution_count": null,
   "metadata": {},
   "outputs": [],
   "source": [
    "butane_withHs = Chem.AddHs(butane)\n",
    "butane_withHs"
   ]
  },
  {
   "cell_type": "code",
   "execution_count": null,
   "metadata": {},
   "outputs": [],
   "source": [
    "for atom in butane_withHs.GetAtoms():\n",
    "    print(atom.GetSymbol(), atom.GetMass())\n",
    "\n",
    "for bond in butane_withHs.GetBonds():\n",
    "    print(bond.GetBondType())"
   ]
  },
  {
   "cell_type": "code",
   "execution_count": null,
   "metadata": {},
   "outputs": [],
   "source": [
    "# Adding Hydrogens with Add Hs will cause these to be the same, regardless of kwargs\n",
    "print(f'Num. Atoms: {butane.GetNumAtoms()}')\n",
    "print(f'Num. Atoms: {butane.GetNumAtoms(onlyExplicit=False)}')"
   ]
  },
  {
   "cell_type": "code",
   "execution_count": 35,
   "metadata": {},
   "outputs": [],
   "source": [
    "from rdkit.Chem import Descriptors"
   ]
  },
  {
   "cell_type": "code",
   "execution_count": null,
   "metadata": {},
   "outputs": [],
   "source": [
    "Descriptors.MolWt(butane)\n",
    "# needs to be imported, cannot be accessed automatically."
   ]
  },
  {
   "cell_type": "code",
   "execution_count": null,
   "metadata": {},
   "outputs": [],
   "source": [
    "# Calculate Full Descriptors\n",
    "Descriptors.CalcMolDescriptors(butane)"
   ]
  },
  {
   "cell_type": "code",
   "execution_count": 50,
   "metadata": {},
   "outputs": [
    {
     "data": {
      "application/3dmoljs_load.v0": "<div id=\"3dmolviewer_1727228883470552\"  style=\"position: relative; width: 680px; height: 250px;\">\n        <p id=\"3dmolwarning_1727228883470552\" style=\"background-color:#ffcccc;color:black\">3Dmol.js failed to load for some reason.  Please check your browser console for error messages.<br></p>\n        </div>\n<script>\n\nvar loadScriptAsync = function(uri){\n  return new Promise((resolve, reject) => {\n    //this is to ignore the existence of requirejs amd\n    var savedexports, savedmodule;\n    if (typeof exports !== 'undefined') savedexports = exports;\n    else exports = {}\n    if (typeof module !== 'undefined') savedmodule = module;\n    else module = {}\n\n    var tag = document.createElement('script');\n    tag.src = uri;\n    tag.async = true;\n    tag.onload = () => {\n        exports = savedexports;\n        module = savedmodule;\n        resolve();\n    };\n  var firstScriptTag = document.getElementsByTagName('script')[0];\n  firstScriptTag.parentNode.insertBefore(tag, firstScriptTag);\n});\n};\n\nif(typeof $3Dmolpromise === 'undefined') {\n$3Dmolpromise = null;\n  $3Dmolpromise = loadScriptAsync('https://cdnjs.cloudflare.com/ajax/libs/3Dmol/2.4.0/3Dmol-min.js');\n}\n\nvar viewer_1727228883470552 = null;\nvar warn = document.getElementById(\"3dmolwarning_1727228883470552\");\nif(warn) {\n    warn.parentNode.removeChild(warn);\n}\n$3Dmolpromise.then(function() {\nvar viewergrid_1727228883470552 = null;\nviewergrid_1727228883470552 = $3Dmol.createViewerGrid(document.getElementById(\"3dmolviewer_1727228883470552\"),{rows: 1, cols: 3, control_all: true},{backgroundColor:\"white\"});\nviewer_1727228883470552 = viewergrid_1727228883470552[0][0];\n$3Dmol.download(\"cid:2519\", viewergrid_1727228883470552[0][0], {}, function() {\n$3Dmol.download(\"cid:2519\", viewergrid_1727228883470552[0][1], {}, function() {\n$3Dmol.download(\"cid:2519\", viewergrid_1727228883470552[0][2], {}, function() {\nviewergrid_1727228883470552[0][0].zoomTo();viewergrid_1727228883470552[0][1].zoomTo();viewergrid_1727228883470552[0][2].zoomTo();\tviewergrid_1727228883470552[0][0].setStyle({\"line\": {\"linewidth\": 8}});\n\tviewergrid_1727228883470552[0][1].setStyle({\"stick\": {\"linewidth\": 8}});\n\tviewergrid_1727228883470552[0][2].setStyle({\"sphere\": {\"linewidth\": 8}});\n\tviewergrid_1727228883470552[0][0].setBackgroundColor(\"#556b2f\");\n\tviewergrid_1727228883470552[0][1].setBackgroundColor(\"#556b2f\");\n\tviewergrid_1727228883470552[0][2].setBackgroundColor(\"#556b2f\");\n\tviewergrid_1727228883470552[0][0].render();\n\tviewergrid_1727228883470552[0][1].render();\n\tviewergrid_1727228883470552[0][2].render();\nviewergrid_1727228883470552[0][2].render();\nviewergrid_1727228883470552[0][1].render();\nviewergrid_1727228883470552[0][0].render();\n})\n})\n})\n});\n</script>",
      "text/html": [
       "<div id=\"3dmolviewer_1727228883470552\"  style=\"position: relative; width: 680px; height: 250px;\">\n",
       "        <p id=\"3dmolwarning_1727228883470552\" style=\"background-color:#ffcccc;color:black\">3Dmol.js failed to load for some reason.  Please check your browser console for error messages.<br></p>\n",
       "        </div>\n",
       "<script>\n",
       "\n",
       "var loadScriptAsync = function(uri){\n",
       "  return new Promise((resolve, reject) => {\n",
       "    //this is to ignore the existence of requirejs amd\n",
       "    var savedexports, savedmodule;\n",
       "    if (typeof exports !== 'undefined') savedexports = exports;\n",
       "    else exports = {}\n",
       "    if (typeof module !== 'undefined') savedmodule = module;\n",
       "    else module = {}\n",
       "\n",
       "    var tag = document.createElement('script');\n",
       "    tag.src = uri;\n",
       "    tag.async = true;\n",
       "    tag.onload = () => {\n",
       "        exports = savedexports;\n",
       "        module = savedmodule;\n",
       "        resolve();\n",
       "    };\n",
       "  var firstScriptTag = document.getElementsByTagName('script')[0];\n",
       "  firstScriptTag.parentNode.insertBefore(tag, firstScriptTag);\n",
       "});\n",
       "};\n",
       "\n",
       "if(typeof $3Dmolpromise === 'undefined') {\n",
       "$3Dmolpromise = null;\n",
       "  $3Dmolpromise = loadScriptAsync('https://cdnjs.cloudflare.com/ajax/libs/3Dmol/2.4.0/3Dmol-min.js');\n",
       "}\n",
       "\n",
       "var viewer_1727228883470552 = null;\n",
       "var warn = document.getElementById(\"3dmolwarning_1727228883470552\");\n",
       "if(warn) {\n",
       "    warn.parentNode.removeChild(warn);\n",
       "}\n",
       "$3Dmolpromise.then(function() {\n",
       "var viewergrid_1727228883470552 = null;\n",
       "viewergrid_1727228883470552 = $3Dmol.createViewerGrid(document.getElementById(\"3dmolviewer_1727228883470552\"),{rows: 1, cols: 3, control_all: true},{backgroundColor:\"white\"});\n",
       "viewer_1727228883470552 = viewergrid_1727228883470552[0][0];\n",
       "$3Dmol.download(\"cid:2519\", viewergrid_1727228883470552[0][0], {}, function() {\n",
       "$3Dmol.download(\"cid:2519\", viewergrid_1727228883470552[0][1], {}, function() {\n",
       "$3Dmol.download(\"cid:2519\", viewergrid_1727228883470552[0][2], {}, function() {\n",
       "viewergrid_1727228883470552[0][0].zoomTo();viewergrid_1727228883470552[0][1].zoomTo();viewergrid_1727228883470552[0][2].zoomTo();\tviewergrid_1727228883470552[0][0].setStyle({\"line\": {\"linewidth\": 8}});\n",
       "\tviewergrid_1727228883470552[0][1].setStyle({\"stick\": {\"linewidth\": 8}});\n",
       "\tviewergrid_1727228883470552[0][2].setStyle({\"sphere\": {\"linewidth\": 8}});\n",
       "\tviewergrid_1727228883470552[0][0].setBackgroundColor(\"#556b2f\");\n",
       "\tviewergrid_1727228883470552[0][1].setBackgroundColor(\"#556b2f\");\n",
       "\tviewergrid_1727228883470552[0][2].setBackgroundColor(\"#556b2f\");\n",
       "\tviewergrid_1727228883470552[0][0].render();\n",
       "\tviewergrid_1727228883470552[0][1].render();\n",
       "\tviewergrid_1727228883470552[0][2].render();\n",
       "viewergrid_1727228883470552[0][2].render();\n",
       "viewergrid_1727228883470552[0][1].render();\n",
       "viewergrid_1727228883470552[0][0].render();\n",
       "})\n",
       "})\n",
       "})\n",
       "});\n",
       "</script>"
      ]
     },
     "metadata": {},
     "output_type": "display_data"
    },
    {
     "data": {
      "text/plain": [
       "<py3Dmol.view at 0x15ffa9e20>"
      ]
     },
     "execution_count": 50,
     "metadata": {},
     "output_type": "execute_result"
    }
   ],
   "source": [
    "import py3Dmol\n",
    "\n",
    "view = py3Dmol.view(width=680, height=250, query='cid:2519', viewergrid=(1,3), linked=True)\n",
    "view.setStyle({'line': {'linewidth': 8}}, viewer=(0,0))\n",
    "view.setStyle({'stick': {'linewidth': 8}}, viewer=(0,1))\n",
    "view.setStyle({'sphere': {'linewidth': 8}}, viewer=(0,2))\n",
    "\n",
    "view.setBackgroundColor('#556b2f', viewer=(0,0))\n",
    "view.setBackgroundColor('#556b2f', viewer=(0,1))\n",
    "view.setBackgroundColor('#556b2f', viewer=(0,2))\n",
    "\n",
    "view.render()"
   ]
  },
  {
   "cell_type": "code",
   "execution_count": null,
   "metadata": {},
   "outputs": [],
   "source": []
  }
 ],
 "metadata": {
  "kernelspec": {
   "display_name": "atomaton",
   "language": "python",
   "name": "python3"
  },
  "language_info": {
   "codemirror_mode": {
    "name": "ipython",
    "version": 3
   },
   "file_extension": ".py",
   "mimetype": "text/x-python",
   "name": "python",
   "nbconvert_exporter": "python",
   "pygments_lexer": "ipython3",
   "version": "3.9.4"
  }
 },
 "nbformat": 4,
 "nbformat_minor": 2
}
